{
 "cells": [
  {
   "cell_type": "markdown",
   "metadata": {},
   "source": [
    "# 2021-01-13_EcN_LPs_RelativeExpression_M9_300minInduction_AJT472_473_474_rep2"
   ]
  },
  {
   "cell_type": "markdown",
   "metadata": {},
   "source": [
    "Brief experiment description:\n",
    "\n",
    "* 1:150 1.5 hours, 1:750 5 hours, 100 into 200 uL PBS for cyt.\n",
    "* Testing relative levels of RPU construct in each landing pad\n",
    "* All strains are sequence confirmed\n",
    "\n",
    "Experimental variables:\n",
    "* Which landing pad contains PJ23101-YFP\n",
    "    - determined by strain number\n",
    "\n",
    "Notes on experiment:\n",
    "\n",
    "* FITC-A is the output channel (YFP)"
   ]
  },
  {
   "cell_type": "markdown",
   "metadata": {},
   "source": [
    "### Strains\n",
    "\n",
    "#### Experiment\n",
    "| strain number | parent strain | Description               | \n",
    "|---------------|---------------|-------------------------------|\n",
    "| AJT472  | EcN | PJ23101-YFP in LPattB5     |\n",
    "| AJT473  | EcN | PJ23101-YFP in LPattB2     |\n",
    "| AJT474  | EcN | PJ23101-YFP in LPattB7     |   \n"
   ]
  },
  {
   "cell_type": "markdown",
   "metadata": {},
   "source": [
    "### Protocol\n",
    "\n",
    " - Overnight in M9 + kan\n",
    " - M9\n",
    "     * Dilute 1:150 in 500 uL deep-well plate, grow for 1.5 hours\n",
    "     * Dilute 1:750 into 500 uL in deep-well plate, grow for 5 hours\n",
    "         - cells were a little dilute at end\n",
    "     * 100 uL culture into 200 uL PBS + kan"
   ]
  },
  {
   "cell_type": "code",
   "execution_count": 2,
   "metadata": {},
   "outputs": [],
   "source": [
    "# Matplotlib interactivity\n",
    "#matplotlib notebook\n",
    "import matplotlib\n",
    "matplotlib.rc('figure', dpi = 160)\n",
    "matplotlib.rcParams['pdf.fonttype'] = 42 # for making font editable when exported to PDF for Illustrator\n",
    "matplotlib.rcParams['ps.fonttype'] = 42 # for making font editable when exported to PS for Illustrator\n",
    "\n",
    "# Set the default sans-serif font to Arial\"\n",
    "matplotlib.rcParams['font.sans-serif'] = \"Arial\"\n",
    "# Set to always use sans-serif fonts\n",
    "matplotlib.rcParams['font.family'] = \"sans-serif\""
   ]
  },
  {
   "cell_type": "code",
   "execution_count": 3,
   "metadata": {
    "code_folding": []
   },
   "outputs": [],
   "source": [
    "# Imports\n",
    "import matplotlib.pyplot as plt\n",
    "import numpy as np\n",
    "import sys\n",
    "import cytoflow as flow\n",
    "import string\n",
    "import pandas as pd\n",
    "import pickle\n",
    "from scipy.optimize import least_squares\n",
    "from matplotlib.lines import Line2D\n",
    "\n",
    "# Dan's custom scripts that aid in importing from conditions.csv file\n",
    "sys.path.append('/Users/atriassi/Dropbox (MIT)/Voigt Lab/_Data/Flow Cytometry Data/cytoflow_example_fromDan/modules')\n",
    "import cf_imports\n",
    "import cf_helpers"
   ]
  },
  {
   "cell_type": "code",
   "execution_count": 4,
   "metadata": {
    "code_folding": []
   },
   "outputs": [
    {
     "data": {
      "text/plain": [
       "<module 'cf_helpers' from '/Users/atriassi/Dropbox (MIT)/Voigt Lab/_Data/Flow Cytometry Data/cytoflow_example_fromDan/modules/cf_helpers.py'>"
      ]
     },
     "execution_count": 4,
     "metadata": {},
     "output_type": "execute_result"
    }
   ],
   "source": [
    "# Import reloads for when modules are being changed\n",
    "import importlib\n",
    "importlib.reload(cf_imports)\n",
    "importlib.reload(cf_helpers)"
   ]
  },
  {
   "cell_type": "markdown",
   "metadata": {},
   "source": [
    "## Data Import"
   ]
  },
  {
   "cell_type": "code",
   "execution_count": 5,
   "metadata": {},
   "outputs": [],
   "source": [
    "# Provide full path to flow cytometry .fcs file directory and pass to fixer\n",
    "fcs_dir = cf_imports.dir_fix(\n",
    "    r'/Users/atriassi/Dropbox (MIT)/Voigt Lab/_Data/Flow Cytometry Data/2021-01-13_EcN_LPs_RelativeExpression_M9_300minInduction_rep2/2021-01-13_EcN_LPs_RelativeExpression_M9_300minInduction_AJT472_473_474')\n",
    "# Optional specification of conditions directory (default to same directory as data)\n",
    "conds_dir = None\n",
    "\n"
   ]
  },
  {
   "cell_type": "code",
   "execution_count": 6,
   "metadata": {
    "scrolled": true
   },
   "outputs": [
    {
     "name": "stdout",
     "output_type": "stream",
     "text": [
      "['/Users/atriassi/Dropbox (MIT)/Voigt Lab/_Data/Flow Cytometry '\n",
      " 'Data/2021-01-13_EcN_LPs_RelativeExpression_M9_300minInduction_rep2/2021-01-13_EcN_LPs_RelativeExpression_M9_300minInduction_AJT472_473_474/Specimen_001_A1_A01.fcs',\n",
      " '/Users/atriassi/Dropbox (MIT)/Voigt Lab/_Data/Flow Cytometry '\n",
      " 'Data/2021-01-13_EcN_LPs_RelativeExpression_M9_300minInduction_rep2/2021-01-13_EcN_LPs_RelativeExpression_M9_300minInduction_AJT472_473_474/Specimen_001_A2_A02.fcs',\n",
      " '/Users/atriassi/Dropbox (MIT)/Voigt Lab/_Data/Flow Cytometry '\n",
      " 'Data/2021-01-13_EcN_LPs_RelativeExpression_M9_300minInduction_rep2/2021-01-13_EcN_LPs_RelativeExpression_M9_300minInduction_AJT472_473_474/Specimen_001_A3_A03.fcs',\n",
      " '/Users/atriassi/Dropbox (MIT)/Voigt Lab/_Data/Flow Cytometry '\n",
      " 'Data/2021-01-13_EcN_LPs_RelativeExpression_M9_300minInduction_rep2/2021-01-13_EcN_LPs_RelativeExpression_M9_300minInduction_AJT472_473_474/Specimen_001_A4_A04.fcs',\n",
      " '/Users/atriassi/Dropbox (MIT)/Voigt Lab/_Data/Flow Cytometry '\n",
      " 'Data/2021-01-13_EcN_LPs_RelativeExpression_M9_300minInduction_rep2/2021-01-13_EcN_LPs_RelativeExpression_M9_300minInduction_AJT472_473_474/Specimen_001_A5_A05.fcs',\n",
      " '/Users/atriassi/Dropbox (MIT)/Voigt Lab/_Data/Flow Cytometry '\n",
      " 'Data/2021-01-13_EcN_LPs_RelativeExpression_M9_300minInduction_rep2/2021-01-13_EcN_LPs_RelativeExpression_M9_300minInduction_AJT472_473_474/Specimen_001_A6_A06.fcs',\n",
      " '/Users/atriassi/Dropbox (MIT)/Voigt Lab/_Data/Flow Cytometry '\n",
      " 'Data/2021-01-13_EcN_LPs_RelativeExpression_M9_300minInduction_rep2/2021-01-13_EcN_LPs_RelativeExpression_M9_300minInduction_AJT472_473_474/Specimen_001_B1_B01.fcs',\n",
      " '/Users/atriassi/Dropbox (MIT)/Voigt Lab/_Data/Flow Cytometry '\n",
      " 'Data/2021-01-13_EcN_LPs_RelativeExpression_M9_300minInduction_rep2/2021-01-13_EcN_LPs_RelativeExpression_M9_300minInduction_AJT472_473_474/Specimen_001_B2_B02.fcs',\n",
      " '/Users/atriassi/Dropbox (MIT)/Voigt Lab/_Data/Flow Cytometry '\n",
      " 'Data/2021-01-13_EcN_LPs_RelativeExpression_M9_300minInduction_rep2/2021-01-13_EcN_LPs_RelativeExpression_M9_300minInduction_AJT472_473_474/Specimen_001_B3_B03.fcs',\n",
      " '/Users/atriassi/Dropbox (MIT)/Voigt Lab/_Data/Flow Cytometry '\n",
      " 'Data/2021-01-13_EcN_LPs_RelativeExpression_M9_300minInduction_rep2/2021-01-13_EcN_LPs_RelativeExpression_M9_300minInduction_AJT472_473_474/Specimen_001_B4_B04.fcs',\n",
      " '/Users/atriassi/Dropbox (MIT)/Voigt Lab/_Data/Flow Cytometry '\n",
      " 'Data/2021-01-13_EcN_LPs_RelativeExpression_M9_300minInduction_rep2/2021-01-13_EcN_LPs_RelativeExpression_M9_300minInduction_AJT472_473_474/Specimen_001_B5_B05.fcs',\n",
      " '/Users/atriassi/Dropbox (MIT)/Voigt Lab/_Data/Flow Cytometry '\n",
      " 'Data/2021-01-13_EcN_LPs_RelativeExpression_M9_300minInduction_rep2/2021-01-13_EcN_LPs_RelativeExpression_M9_300minInduction_AJT472_473_474/Specimen_001_B6_B06.fcs',\n",
      " '/Users/atriassi/Dropbox (MIT)/Voigt Lab/_Data/Flow Cytometry '\n",
      " 'Data/2021-01-13_EcN_LPs_RelativeExpression_M9_300minInduction_rep2/2021-01-13_EcN_LPs_RelativeExpression_M9_300minInduction_AJT472_473_474/Specimen_001_C1_C01.fcs',\n",
      " '/Users/atriassi/Dropbox (MIT)/Voigt Lab/_Data/Flow Cytometry '\n",
      " 'Data/2021-01-13_EcN_LPs_RelativeExpression_M9_300minInduction_rep2/2021-01-13_EcN_LPs_RelativeExpression_M9_300minInduction_AJT472_473_474/Specimen_001_C2_C02.fcs',\n",
      " '/Users/atriassi/Dropbox (MIT)/Voigt Lab/_Data/Flow Cytometry '\n",
      " 'Data/2021-01-13_EcN_LPs_RelativeExpression_M9_300minInduction_rep2/2021-01-13_EcN_LPs_RelativeExpression_M9_300minInduction_AJT472_473_474/Specimen_001_C3_C03.fcs',\n",
      " '/Users/atriassi/Dropbox (MIT)/Voigt Lab/_Data/Flow Cytometry '\n",
      " 'Data/2021-01-13_EcN_LPs_RelativeExpression_M9_300minInduction_rep2/2021-01-13_EcN_LPs_RelativeExpression_M9_300minInduction_AJT472_473_474/Specimen_001_C4_C04.fcs',\n",
      " '/Users/atriassi/Dropbox (MIT)/Voigt Lab/_Data/Flow Cytometry '\n",
      " 'Data/2021-01-13_EcN_LPs_RelativeExpression_M9_300minInduction_rep2/2021-01-13_EcN_LPs_RelativeExpression_M9_300minInduction_AJT472_473_474/Specimen_001_C5_C05.fcs',\n",
      " '/Users/atriassi/Dropbox (MIT)/Voigt Lab/_Data/Flow Cytometry '\n",
      " 'Data/2021-01-13_EcN_LPs_RelativeExpression_M9_300minInduction_rep2/2021-01-13_EcN_LPs_RelativeExpression_M9_300minInduction_AJT472_473_474/Specimen_001_C6_C06.fcs']\n"
     ]
    }
   ],
   "source": [
    "# Create experiment from fcs files and conditions file ()\n",
    "exp = cf_imports.exp_from_dirs(fcs_dir, conds_dir)"
   ]
  },
  {
   "cell_type": "code",
   "execution_count": 7,
   "metadata": {
    "scrolled": false
   },
   "outputs": [
    {
     "data": {
      "text/html": [
       "<div>\n",
       "<style scoped>\n",
       "    .dataframe tbody tr th:only-of-type {\n",
       "        vertical-align: middle;\n",
       "    }\n",
       "\n",
       "    .dataframe tbody tr th {\n",
       "        vertical-align: top;\n",
       "    }\n",
       "\n",
       "    .dataframe thead th {\n",
       "        text-align: right;\n",
       "    }\n",
       "</style>\n",
       "<table border=\"1\" class=\"dataframe\">\n",
       "  <thead>\n",
       "    <tr style=\"text-align: right;\">\n",
       "      <th></th>\n",
       "      <th>FITC-A</th>\n",
       "      <th>FITC-H</th>\n",
       "      <th>FSC-A</th>\n",
       "      <th>FSC-H</th>\n",
       "      <th>PE-Texas Red-A</th>\n",
       "      <th>PE-Texas Red-H</th>\n",
       "      <th>Pacific Blue-A</th>\n",
       "      <th>Pacific Blue-H</th>\n",
       "      <th>SSC-A</th>\n",
       "      <th>SSC-H</th>\n",
       "      <th>Time</th>\n",
       "      <th>col</th>\n",
       "      <th>iptg</th>\n",
       "      <th>media</th>\n",
       "      <th>parent_strain</th>\n",
       "      <th>replicate</th>\n",
       "      <th>row</th>\n",
       "      <th>sample_num</th>\n",
       "      <th>strain_num</th>\n",
       "    </tr>\n",
       "  </thead>\n",
       "  <tbody>\n",
       "    <tr>\n",
       "      <th>0</th>\n",
       "      <td>921.630005</td>\n",
       "      <td>876.0</td>\n",
       "      <td>12889.640625</td>\n",
       "      <td>12704.0</td>\n",
       "      <td>37.740002</td>\n",
       "      <td>21.0</td>\n",
       "      <td>2.040000</td>\n",
       "      <td>61.0</td>\n",
       "      <td>27642.390625</td>\n",
       "      <td>29736.0</td>\n",
       "      <td>51.5</td>\n",
       "      <td>1</td>\n",
       "      <td>0.0</td>\n",
       "      <td>M9</td>\n",
       "      <td>EcN</td>\n",
       "      <td>2</td>\n",
       "      <td>A</td>\n",
       "      <td>1</td>\n",
       "      <td>AJT472-1</td>\n",
       "    </tr>\n",
       "    <tr>\n",
       "      <th>1</th>\n",
       "      <td>950.460022</td>\n",
       "      <td>839.0</td>\n",
       "      <td>13914.270508</td>\n",
       "      <td>11194.0</td>\n",
       "      <td>8.880000</td>\n",
       "      <td>31.0</td>\n",
       "      <td>65.279999</td>\n",
       "      <td>75.0</td>\n",
       "      <td>22094.939453</td>\n",
       "      <td>24871.0</td>\n",
       "      <td>51.5</td>\n",
       "      <td>1</td>\n",
       "      <td>0.0</td>\n",
       "      <td>M9</td>\n",
       "      <td>EcN</td>\n",
       "      <td>2</td>\n",
       "      <td>A</td>\n",
       "      <td>1</td>\n",
       "      <td>AJT472-1</td>\n",
       "    </tr>\n",
       "    <tr>\n",
       "      <th>2</th>\n",
       "      <td>870.479980</td>\n",
       "      <td>880.0</td>\n",
       "      <td>12101.220703</td>\n",
       "      <td>9405.0</td>\n",
       "      <td>44.400002</td>\n",
       "      <td>32.0</td>\n",
       "      <td>116.279999</td>\n",
       "      <td>52.0</td>\n",
       "      <td>26617.529297</td>\n",
       "      <td>28749.0</td>\n",
       "      <td>51.5</td>\n",
       "      <td>1</td>\n",
       "      <td>0.0</td>\n",
       "      <td>M9</td>\n",
       "      <td>EcN</td>\n",
       "      <td>2</td>\n",
       "      <td>A</td>\n",
       "      <td>1</td>\n",
       "      <td>AJT472-1</td>\n",
       "    </tr>\n",
       "    <tr>\n",
       "      <th>3</th>\n",
       "      <td>1050.900024</td>\n",
       "      <td>881.0</td>\n",
       "      <td>14790.380859</td>\n",
       "      <td>12172.0</td>\n",
       "      <td>-5.920000</td>\n",
       "      <td>19.0</td>\n",
       "      <td>222.360001</td>\n",
       "      <td>71.0</td>\n",
       "      <td>24166.050781</td>\n",
       "      <td>26072.0</td>\n",
       "      <td>51.5</td>\n",
       "      <td>1</td>\n",
       "      <td>0.0</td>\n",
       "      <td>M9</td>\n",
       "      <td>EcN</td>\n",
       "      <td>2</td>\n",
       "      <td>A</td>\n",
       "      <td>1</td>\n",
       "      <td>AJT472-1</td>\n",
       "    </tr>\n",
       "    <tr>\n",
       "      <th>4</th>\n",
       "      <td>1836.750000</td>\n",
       "      <td>990.0</td>\n",
       "      <td>24225.351562</td>\n",
       "      <td>13650.0</td>\n",
       "      <td>-26.639999</td>\n",
       "      <td>39.0</td>\n",
       "      <td>129.539993</td>\n",
       "      <td>99.0</td>\n",
       "      <td>47073.808594</td>\n",
       "      <td>26910.0</td>\n",
       "      <td>51.5</td>\n",
       "      <td>1</td>\n",
       "      <td>0.0</td>\n",
       "      <td>M9</td>\n",
       "      <td>EcN</td>\n",
       "      <td>2</td>\n",
       "      <td>A</td>\n",
       "      <td>1</td>\n",
       "      <td>AJT472-1</td>\n",
       "    </tr>\n",
       "    <tr>\n",
       "      <th>5</th>\n",
       "      <td>2731.409912</td>\n",
       "      <td>1482.0</td>\n",
       "      <td>22123.160156</td>\n",
       "      <td>13110.0</td>\n",
       "      <td>-29.600000</td>\n",
       "      <td>17.0</td>\n",
       "      <td>137.699997</td>\n",
       "      <td>61.0</td>\n",
       "      <td>90433.203125</td>\n",
       "      <td>52378.0</td>\n",
       "      <td>51.5</td>\n",
       "      <td>1</td>\n",
       "      <td>0.0</td>\n",
       "      <td>M9</td>\n",
       "      <td>EcN</td>\n",
       "      <td>2</td>\n",
       "      <td>A</td>\n",
       "      <td>1</td>\n",
       "      <td>AJT472-1</td>\n",
       "    </tr>\n",
       "    <tr>\n",
       "      <th>6</th>\n",
       "      <td>842.580017</td>\n",
       "      <td>764.0</td>\n",
       "      <td>10711.610352</td>\n",
       "      <td>8256.0</td>\n",
       "      <td>9.620000</td>\n",
       "      <td>44.0</td>\n",
       "      <td>62.219997</td>\n",
       "      <td>56.0</td>\n",
       "      <td>38892.601562</td>\n",
       "      <td>38468.0</td>\n",
       "      <td>51.5</td>\n",
       "      <td>1</td>\n",
       "      <td>0.0</td>\n",
       "      <td>M9</td>\n",
       "      <td>EcN</td>\n",
       "      <td>2</td>\n",
       "      <td>A</td>\n",
       "      <td>1</td>\n",
       "      <td>AJT472-1</td>\n",
       "    </tr>\n",
       "    <tr>\n",
       "      <th>7</th>\n",
       "      <td>775.619995</td>\n",
       "      <td>724.0</td>\n",
       "      <td>11301.740234</td>\n",
       "      <td>8749.0</td>\n",
       "      <td>-22.200001</td>\n",
       "      <td>28.0</td>\n",
       "      <td>44.879997</td>\n",
       "      <td>53.0</td>\n",
       "      <td>22444.621094</td>\n",
       "      <td>25088.0</td>\n",
       "      <td>51.5</td>\n",
       "      <td>1</td>\n",
       "      <td>0.0</td>\n",
       "      <td>M9</td>\n",
       "      <td>EcN</td>\n",
       "      <td>2</td>\n",
       "      <td>A</td>\n",
       "      <td>1</td>\n",
       "      <td>AJT472-1</td>\n",
       "    </tr>\n",
       "    <tr>\n",
       "      <th>8</th>\n",
       "      <td>525.450012</td>\n",
       "      <td>624.0</td>\n",
       "      <td>10705.290039</td>\n",
       "      <td>7741.0</td>\n",
       "      <td>8.140000</td>\n",
       "      <td>24.0</td>\n",
       "      <td>31.619999</td>\n",
       "      <td>69.0</td>\n",
       "      <td>16218.270508</td>\n",
       "      <td>19248.0</td>\n",
       "      <td>51.5</td>\n",
       "      <td>1</td>\n",
       "      <td>0.0</td>\n",
       "      <td>M9</td>\n",
       "      <td>EcN</td>\n",
       "      <td>2</td>\n",
       "      <td>A</td>\n",
       "      <td>1</td>\n",
       "      <td>AJT472-1</td>\n",
       "    </tr>\n",
       "    <tr>\n",
       "      <th>9</th>\n",
       "      <td>1154.130005</td>\n",
       "      <td>999.0</td>\n",
       "      <td>13108.470703</td>\n",
       "      <td>12467.0</td>\n",
       "      <td>13.320000</td>\n",
       "      <td>33.0</td>\n",
       "      <td>57.119999</td>\n",
       "      <td>82.0</td>\n",
       "      <td>37811.941406</td>\n",
       "      <td>38064.0</td>\n",
       "      <td>51.5</td>\n",
       "      <td>1</td>\n",
       "      <td>0.0</td>\n",
       "      <td>M9</td>\n",
       "      <td>EcN</td>\n",
       "      <td>2</td>\n",
       "      <td>A</td>\n",
       "      <td>1</td>\n",
       "      <td>AJT472-1</td>\n",
       "    </tr>\n",
       "  </tbody>\n",
       "</table>\n",
       "</div>"
      ],
      "text/plain": [
       "        FITC-A  FITC-H         FSC-A    FSC-H  PE-Texas Red-A  PE-Texas Red-H  \\\n",
       "0   921.630005   876.0  12889.640625  12704.0       37.740002            21.0   \n",
       "1   950.460022   839.0  13914.270508  11194.0        8.880000            31.0   \n",
       "2   870.479980   880.0  12101.220703   9405.0       44.400002            32.0   \n",
       "3  1050.900024   881.0  14790.380859  12172.0       -5.920000            19.0   \n",
       "4  1836.750000   990.0  24225.351562  13650.0      -26.639999            39.0   \n",
       "5  2731.409912  1482.0  22123.160156  13110.0      -29.600000            17.0   \n",
       "6   842.580017   764.0  10711.610352   8256.0        9.620000            44.0   \n",
       "7   775.619995   724.0  11301.740234   8749.0      -22.200001            28.0   \n",
       "8   525.450012   624.0  10705.290039   7741.0        8.140000            24.0   \n",
       "9  1154.130005   999.0  13108.470703  12467.0       13.320000            33.0   \n",
       "\n",
       "   Pacific Blue-A  Pacific Blue-H         SSC-A    SSC-H  Time col  iptg  \\\n",
       "0        2.040000            61.0  27642.390625  29736.0  51.5   1   0.0   \n",
       "1       65.279999            75.0  22094.939453  24871.0  51.5   1   0.0   \n",
       "2      116.279999            52.0  26617.529297  28749.0  51.5   1   0.0   \n",
       "3      222.360001            71.0  24166.050781  26072.0  51.5   1   0.0   \n",
       "4      129.539993            99.0  47073.808594  26910.0  51.5   1   0.0   \n",
       "5      137.699997            61.0  90433.203125  52378.0  51.5   1   0.0   \n",
       "6       62.219997            56.0  38892.601562  38468.0  51.5   1   0.0   \n",
       "7       44.879997            53.0  22444.621094  25088.0  51.5   1   0.0   \n",
       "8       31.619999            69.0  16218.270508  19248.0  51.5   1   0.0   \n",
       "9       57.119999            82.0  37811.941406  38064.0  51.5   1   0.0   \n",
       "\n",
       "  media parent_strain replicate row  sample_num strain_num  \n",
       "0    M9           EcN         2   A           1   AJT472-1  \n",
       "1    M9           EcN         2   A           1   AJT472-1  \n",
       "2    M9           EcN         2   A           1   AJT472-1  \n",
       "3    M9           EcN         2   A           1   AJT472-1  \n",
       "4    M9           EcN         2   A           1   AJT472-1  \n",
       "5    M9           EcN         2   A           1   AJT472-1  \n",
       "6    M9           EcN         2   A           1   AJT472-1  \n",
       "7    M9           EcN         2   A           1   AJT472-1  \n",
       "8    M9           EcN         2   A           1   AJT472-1  \n",
       "9    M9           EcN         2   A           1   AJT472-1  "
      ]
     },
     "execution_count": 7,
     "metadata": {},
     "output_type": "execute_result"
    }
   ],
   "source": [
    "# Check dataframe \n",
    "exp.data.head(10)\n",
    "# exp2.data.head(10)\n",
    "# exp3.data.head(10)"
   ]
  },
  {
   "cell_type": "code",
   "execution_count": null,
   "metadata": {
    "scrolled": true
   },
   "outputs": [],
   "source": [
    "exp.data.groupby(['parent_strain','strain_num', 'iptg']).size()\n",
    "# exp2.data.groupby(['parent_strain','strain_num', 'iptg']).size()\n",
    "# exp3.data.groupby(['parent_strain','strain_num', 'iptg']).size()"
   ]
  },
  {
   "cell_type": "markdown",
   "metadata": {},
   "source": [
    "## Gating"
   ]
  },
  {
   "cell_type": "markdown",
   "metadata": {},
   "source": [
    "### FSC / SSC"
   ]
  },
  {
   "cell_type": "code",
   "execution_count": null,
   "metadata": {
    "scrolled": false
   },
   "outputs": [],
   "source": [
    "scatter = flow.DensityView(\n",
    "    xchannel = \"FSC-H\",\n",
    "    ychannel = \"SSC-H\",\n",
    "    yscale = \"log\",\n",
    "    xscale = \"log\")\n",
    "\n",
    "scatter.plot(exp, ylim=(100,100000))"
   ]
  },
  {
   "cell_type": "markdown",
   "metadata": {},
   "source": [
    "Gate FSC-A / SSC-A w/ Guassian w/ 2 sigma stddeviation"
   ]
  },
  {
   "cell_type": "code",
   "execution_count": null,
   "metadata": {},
   "outputs": [],
   "source": [
    "g2 = flow.PolygonOp(name = \"Debris_Filter\",\n",
    "                    xchannel = \"FSC-H\",\n",
    "                    ychannel = \"SSC-H\",\n",
    "                    xscale = 'log',\n",
    "                    yscale = 'log')\n",
    "\n",
    "g2.vertices = [(4000, 10000), # bottom left\n",
    "             (18000, 18000), # bottom right\n",
    "             (18000, 55000), # top right\n",
    "             (4000, 35000)] # top left"
   ]
  },
  {
   "cell_type": "code",
   "execution_count": null,
   "metadata": {},
   "outputs": [],
   "source": [
    "# for polygon gating as opposed to using Gaussian mixture model\n",
    "exp_gated = g2.apply(exp)"
   ]
  },
  {
   "cell_type": "code",
   "execution_count": null,
   "metadata": {},
   "outputs": [],
   "source": [
    "# takes a minute or two to run\n",
    "g2.default_view().plot(exp_gated, alpha = 0.002)"
   ]
  },
  {
   "cell_type": "code",
   "execution_count": null,
   "metadata": {},
   "outputs": [],
   "source": [
    "exp_gated.data.head(10)\n",
    "# exp2_gated.data.head(10)\n",
    "# exp3_gated.data.head(10)"
   ]
  },
  {
   "cell_type": "code",
   "execution_count": null,
   "metadata": {
    "scrolled": true
   },
   "outputs": [],
   "source": [
    "# should use Debris_Filter_2 if using Gaussian Mixture Model, otherwise Debris_Filter\n",
    "exp_gated.data.groupby(['Debris_Filter','parent_strain','strain_num', 'media', 'iptg']).size()\n",
    "# exp2_gated.data.groupby(['Debris_Filter','parent_strain','strain_num', 'media', 'iptg']).size()"
   ]
  },
  {
   "cell_type": "code",
   "execution_count": null,
   "metadata": {},
   "outputs": [],
   "source": [
    "exp_gated_df = exp_gated.data\n",
    "# exp2_gated_df = exp2_gated.data\n",
    "\n",
    "filtered  = exp_gated_df[(exp_gated_df['Debris_Filter']==True)&(exp_gated_df['strain_num']!='blank')]\n",
    "#picked debris filter that looked best qualitatitvely and excluded blank wells\n",
    "\n",
    "# filtered.head(10)\n",
    "filtered.tail(10)"
   ]
  },
  {
   "cell_type": "code",
   "execution_count": null,
   "metadata": {},
   "outputs": [],
   "source": []
  },
  {
   "cell_type": "markdown",
   "metadata": {},
   "source": [
    "# Start from here"
   ]
  },
  {
   "cell_type": "code",
   "execution_count": null,
   "metadata": {},
   "outputs": [],
   "source": [
    "## pickle allows you to save an object as binary so it can be re-opened next time without re-running\n",
    "## all of the code that loaded it\n",
    "\n",
    "pickle.dump(exp_gated_df, open(\"pickledata_gated.p\", \"wb\")) # wb is for writing binary\n",
    "# exp_gated_df = pickle.load(open(\"pickledata_gated.p\", \"rb\")) # rb is for reading binary\n",
    "\n",
    "# # pickle.dump(exp2_gated_df, open(\"pickledata2_gated.p\", \"wb\")) # wb is for writing binary\n",
    "# exp2_gated_df = pickle.load(open(\"pickledata2_gated.p\", \"rb\")) # rb is for reading binary\n",
    "\n",
    "pickle.dump(filtered, open(\"pickledata_filtered.p\", \"wb\")) # wb is for writing binary\n",
    "# filtered = pickle.load(open(\"pickledata_filtered.p\", \"rb\")) # rb is for reading binary"
   ]
  },
  {
   "cell_type": "code",
   "execution_count": null,
   "metadata": {},
   "outputs": [],
   "source": []
  },
  {
   "cell_type": "markdown",
   "metadata": {},
   "source": [
    "## Calculating Medians"
   ]
  },
  {
   "cell_type": "code",
   "execution_count": null,
   "metadata": {
    "scrolled": true
   },
   "outputs": [],
   "source": [
    "parent = sorted(filtered['parent_strain'].unique()) # get strain numbers in experiment\n",
    "print(parent)"
   ]
  },
  {
   "cell_type": "code",
   "execution_count": null,
   "metadata": {
    "scrolled": true
   },
   "outputs": [],
   "source": [
    "strains = sorted(filtered['strain_num'].unique()) # get strain numbers in experiment\n",
    "print(strains)"
   ]
  },
  {
   "cell_type": "code",
   "execution_count": null,
   "metadata": {},
   "outputs": [],
   "source": [
    "media = sorted(filtered['media'].unique()) # get media used in experiment\n",
    "print(media)"
   ]
  },
  {
   "cell_type": "code",
   "execution_count": null,
   "metadata": {},
   "outputs": [],
   "source": []
  },
  {
   "cell_type": "code",
   "execution_count": null,
   "metadata": {},
   "outputs": [],
   "source": [
    "data_dict = dict() # initiate dictionary\n",
    "\n",
    "# make  nested dictionary with medians in it for each condition (media, inducer, concentration, strain)\n",
    "for s in ['AJT472','AJT473','AJT474']:\n",
    "    q = filtered.query('strain_num == \"{}\"'.format(s))\n",
    "    data_dict[s] = q['FITC-A'].median()\n",
    "    \n",
    "data = pd.Series(data_dict)"
   ]
  },
  {
   "cell_type": "code",
   "execution_count": null,
   "metadata": {},
   "outputs": [],
   "source": [
    "# pickle.dump(data, open(\"data.p\", \"wb\")) # wb is for writing binary"
   ]
  },
  {
   "cell_type": "code",
   "execution_count": null,
   "metadata": {},
   "outputs": [],
   "source": [
    "data_dict"
   ]
  },
  {
   "cell_type": "code",
   "execution_count": null,
   "metadata": {},
   "outputs": [],
   "source": [
    "# # controls['M9']['EcN'].loc[[~np.isnan(controls['M9']['EcN'].loc[:,'AJT206'])],'AJT206']\n",
    "# print(controls['M9']['EcN'].loc[:,'AJT206'][~np.isnan(controls['M9']['EcN'].loc[:,'AJT206'])])\n",
    "# auto = (controls['M9']['EcN'].loc[:,'AJT206'][~np.isnan(controls['M9']['EcN'].loc[:,'AJT206'])]).mean(axis=0)\n",
    "\n",
    "\n",
    "# # print(controls['M9']['EcN'].loc[:,'AJT280'][~np.isnan(controls['M9']['EcN'].loc[:,'AJT280'])])\n",
    "# # RPUg = (controls['M9']['EcN'].loc[:,'AJT280'][~np.isnan(controls['M9']['EcN'].loc[:,'AJT280'])]).mean(axis=0)\n",
    "\n",
    "%store -r AJT206_auto_store # from 2020-09-22_EcN_Sensors_AllReplicates_v2\n",
    "# %store -r AJT280_RPUg_store # from 2020-09-22_EcN_Sensors_AllReplicates_v2\n",
    "auto = AJT206_auto_store\n",
    "# RPUg = AJT280_RPUg_store\n",
    "\n",
    "print()\n",
    "print(auto)\n",
    "# print(RPUg)"
   ]
  },
  {
   "cell_type": "code",
   "execution_count": null,
   "metadata": {},
   "outputs": [],
   "source": [
    "data['AJT472']"
   ]
  },
  {
   "cell_type": "code",
   "execution_count": null,
   "metadata": {},
   "outputs": [],
   "source": [
    "# AJT472_r1_au_store = data['AJT472']\n",
    "# AJT473_r1_au_store = data['AJT473']\n",
    "# AJT474_r1_au_store = data['AJT474']\n",
    "\n",
    "# %store AJT472_r1_au_store\n",
    "# %store AJT473_r1_au_store\n",
    "# %store AJT474_r1_au_store\n"
   ]
  },
  {
   "cell_type": "code",
   "execution_count": null,
   "metadata": {},
   "outputs": [],
   "source": []
  },
  {
   "cell_type": "code",
   "execution_count": null,
   "metadata": {},
   "outputs": [],
   "source": [
    "## Histogram-style transfer functions like in Cello SI\n",
    "\n",
    "data_his_dict = dict() # initiate dictionary\n",
    "\n",
    "fig_his, ax_his = plt.subplots(1,3, figsize=(7.5,2.5)) # row, column format\n",
    "plt.tight_layout() #tidies up spacing between plots\n",
    "\n",
    "strains_subset = ['AJT472','AJT473','AJT474']\n",
    "\n",
    "for s in strains_subset:\n",
    "    q = filtered.query('strain_num == \"{}\"'.format(s))\n",
    "    data_his_dict[s] = q['FITC-A']\n",
    "                    \n",
    "    FP = ax_his[strains_subset.index(s)]\n",
    "\n",
    "    for spine in FP.spines.values():\n",
    "        spine.set_edgecolor('black')\n",
    "        spine.set_linewidth(1)\n",
    "\n",
    "#                 print(strains_subset.index(s), inducer_info[i]['conc'].index(c))\n",
    "    logbins = np.geomspace(10,10000,100)\n",
    "    FP.hist(q['FITC-A'], \n",
    "               bins = logbins, \n",
    "               orientation='horizontal',\n",
    "               color = 'darkgray',\n",
    "               edgecolor = 'darkgray',\n",
    "               zorder=-1)\n",
    "    FP.set_yscale('log')\n",
    "    FP.set_ylim(10,10000)\n",
    "    FP.tick_params(axis='both',which='both', \n",
    "                               bottom=False,top=False,\n",
    "                               labelbottom=False,\n",
    "                               right=False,left=False,\n",
    "                               labelleft=False)\n",
    "    FP.grid(False)\n",
    "    FP.set_ylabel('YFP Fluorescence (a.u.)', size=10)\n",
    "    FP.set_xlabel('Cell count')\n",
    "    FP.set_title(s, size = 10)\n",
    "    FP.tick_params(axis='y',which='major',left=True, length=3, width=1, labelleft=True, direction='in')\n",
    "    FP.tick_params(axis='y',which='minor', left=True, length=1.5, width=1, direction='in')     \n",
    "    \n",
    "    xmin, xmax = FP.get_xlim()\n",
    "    FP.set_xlim(xmin,xmax)\n",
    "    FP.hlines(data[s],xmin,xmax, linewidth = 0.5)\n",
    "    FP.text(xmax/4,data[s]/5,'median = {}'.format(round(data[s], 0)), size = 10)\n",
    "\n",
    "                \n",
    "                "
   ]
  },
  {
   "cell_type": "code",
   "execution_count": null,
   "metadata": {},
   "outputs": [],
   "source": [
    "# fig_his.savefig('RPUconstruct_RelativeExpressionAcrossLPs.pdf', bbox_inches = \"tight\", transparent = True)\n"
   ]
  },
  {
   "cell_type": "code",
   "execution_count": null,
   "metadata": {},
   "outputs": [],
   "source": []
  }
 ],
 "metadata": {
  "kernelspec": {
   "display_name": "Python 3",
   "language": "python",
   "name": "python3"
  },
  "language_info": {
   "codemirror_mode": {
    "name": "ipython",
    "version": 3
   },
   "file_extension": ".py",
   "mimetype": "text/x-python",
   "name": "python",
   "nbconvert_exporter": "python",
   "pygments_lexer": "ipython3",
   "version": "3.6.5"
  }
 },
 "nbformat": 4,
 "nbformat_minor": 2
}
