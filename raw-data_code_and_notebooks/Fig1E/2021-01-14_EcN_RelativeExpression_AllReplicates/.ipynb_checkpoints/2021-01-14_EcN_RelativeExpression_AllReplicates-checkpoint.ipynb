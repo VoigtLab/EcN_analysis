{
 "cells": [
  {
   "cell_type": "markdown",
   "metadata": {},
   "source": [
    "# 2020-01-14_EcN_RelativeExpression_AllReplicates"
   ]
  },
  {
   "cell_type": "markdown",
   "metadata": {},
   "source": [
    "Measured fluorescence from RPU construct with strong RBS in each landing pad (and eventually also on p15a origin)."
   ]
  },
  {
   "cell_type": "code",
   "execution_count": 1,
   "metadata": {},
   "outputs": [],
   "source": [
    "# Matplotlib interactivity\n",
    "#matplotlib notebook\n",
    "import matplotlib\n",
    "matplotlib.rc('figure', dpi = 160)\n",
    "matplotlib.rcParams['pdf.fonttype'] = 42 # for making font editable when exported to PDF for Illustrator\n",
    "matplotlib.rcParams['ps.fonttype'] = 42 # for making font editable when exported to PS for Illustrator\n",
    "\n",
    "# Set the default sans-serif font to Arial\"\n",
    "matplotlib.rcParams['font.sans-serif'] = \"Arial\"\n",
    "# Set to always use sans-serif fonts\n",
    "matplotlib.rcParams['font.family'] = \"sans-serif\""
   ]
  },
  {
   "cell_type": "code",
   "execution_count": 2,
   "metadata": {
    "code_folding": []
   },
   "outputs": [],
   "source": [
    "# Imports\n",
    "import matplotlib.pyplot as plt\n",
    "import seaborn as sns\n",
    "import numpy as np\n",
    "import sys\n",
    "import cytoflow as flow\n",
    "import string\n",
    "import pandas as pd\n",
    "import pickle\n",
    "from scipy.optimize import least_squares\n",
    "from matplotlib.lines import Line2D\n",
    "\n",
    "# Dan's custom scripts that aid in importing from conditions.csv file\n",
    "sys.path.append('/Users/atriassi/Documents/MIT Dropbox (local)/Voigt Lab/_Data/Flow Cytometry Data/cytoflow_example_fromDan/modules')\n",
    "import cf_imports\n",
    "import cf_helpers"
   ]
  },
  {
   "cell_type": "code",
   "execution_count": 3,
   "metadata": {
    "code_folding": []
   },
   "outputs": [
    {
     "data": {
      "text/plain": [
       "<module 'cf_helpers' from '/Users/atriassi/Documents/MIT Dropbox (local)/Voigt Lab/_Data/Flow Cytometry Data/cytoflow_example_fromDan/modules/cf_helpers.py'>"
      ]
     },
     "execution_count": 3,
     "metadata": {},
     "output_type": "execute_result"
    }
   ],
   "source": [
    "# Import reloads for when modules are being changed\n",
    "import importlib\n",
    "importlib.reload(cf_imports)\n",
    "importlib.reload(cf_helpers)"
   ]
  },
  {
   "cell_type": "markdown",
   "metadata": {},
   "source": [
    "## Data Import"
   ]
  },
  {
   "cell_type": "code",
   "execution_count": 4,
   "metadata": {
    "scrolled": true
   },
   "outputs": [],
   "source": [
    "strains = ['AJT472','AJT473','AJT474','AJT476']"
   ]
  },
  {
   "cell_type": "code",
   "execution_count": 5,
   "metadata": {},
   "outputs": [],
   "source": [
    "reps = ['r1','r2','r3']"
   ]
  },
  {
   "cell_type": "code",
   "execution_count": 6,
   "metadata": {},
   "outputs": [],
   "source": [
    "# RPU standard fluorescence values\n",
    "%store -r AJT472_r1_au_store \n",
    "%store -r AJT472_r2_au_store \n",
    "%store -r AJT472_r3_au_store \n",
    "\n",
    "%store -r AJT473_r1_au_store \n",
    "%store -r AJT473_r2_au_store \n",
    "%store -r AJT473_r3_au_store \n",
    "\n",
    "%store -r AJT474_r1_au_store \n",
    "%store -r AJT474_r2_au_store \n",
    "%store -r AJT474_r3_au_store \n",
    "\n",
    "%store -r AJT476_r1_au_store \n",
    "%store -r AJT476_r2_au_store \n",
    "%store -r AJT476_r3_au_store \n",
    "\n"
   ]
  },
  {
   "cell_type": "code",
   "execution_count": 7,
   "metadata": {},
   "outputs": [],
   "source": [
    "data_dict = {'au': \n",
    "        {'AJT472': {'r1': AJT472_r1_au_store,\n",
    "                    'r2': AJT472_r2_au_store,\n",
    "                    'r3': AJT472_r3_au_store},\n",
    "         'AJT473': {'r1': AJT473_r1_au_store,\n",
    "                    'r2': AJT473_r2_au_store,\n",
    "                    'r3': AJT473_r3_au_store},\n",
    "         'AJT474': {'r1': AJT474_r1_au_store,\n",
    "                    'r2': AJT474_r2_au_store,\n",
    "                    'r3': AJT474_r3_au_store},\n",
    "         'AJT476': {'r1': AJT476_r1_au_store,\n",
    "                    'r2': AJT476_r2_au_store,\n",
    "                    'r3': AJT476_r3_au_store}}}\n",
    "\n",
    "data = {'AJT472': [AJT472_r1_au_store, AJT472_r2_au_store, AJT472_r3_au_store],\n",
    "       'AJT473': [AJT473_r1_au_store, AJT473_r2_au_store, AJT473_r3_au_store],\n",
    "       'AJT474': [AJT474_r1_au_store, AJT474_r2_au_store, AJT474_r3_au_store],\n",
    "       'AJT476': [AJT476_r1_au_store, AJT476_r2_au_store, AJT476_r3_au_store]}\n",
    "        "
   ]
  },
  {
   "cell_type": "code",
   "execution_count": 18,
   "metadata": {},
   "outputs": [],
   "source": [
    "melted = pd.melt(pd.DataFrame(data))"
   ]
  },
  {
   "cell_type": "code",
   "execution_count": 8,
   "metadata": {},
   "outputs": [
    {
     "data": {
      "text/plain": [
       "55.10505257361895"
      ]
     },
     "execution_count": 8,
     "metadata": {},
     "output_type": "execute_result"
    }
   ],
   "source": [
    "np.std(data['AJT472'])"
   ]
  },
  {
   "cell_type": "code",
   "execution_count": 9,
   "metadata": {},
   "outputs": [
    {
     "name": "stdout",
     "output_type": "stream",
     "text": [
      "no stored variable # from 2020-10-05_EcN_NOTgates_AllReplicates_v2_TESTER\n",
      "no stored variable # from 2020-10-05_EcN_NOTgates_AllReplicates_v2_TESTER\n"
     ]
    }
   ],
   "source": [
    "% store -r means_NOTgates_all # from 2020-10-05_EcN_NOTgates_AllReplicates_v2_TESTER\n",
    "% store -r stdevs_NOTgates_all # from 2020-10-05_EcN_NOTgates_AllReplicates_v2_TESTER"
   ]
  },
  {
   "cell_type": "code",
   "execution_count": 10,
   "metadata": {},
   "outputs": [
    {
     "name": "stdout",
     "output_type": "stream",
     "text": [
      "33.25156319141388 4.310965627978483\n"
     ]
    }
   ],
   "source": [
    "print(means_NOTgates_all['au']['AJT206'], stdevs_NOTgates_all['au']['AJT206'])\n"
   ]
  },
  {
   "cell_type": "code",
   "execution_count": 11,
   "metadata": {},
   "outputs": [],
   "source": [
    "import random"
   ]
  },
  {
   "cell_type": "code",
   "execution_count": 32,
   "metadata": {
    "scrolled": false
   },
   "outputs": [
    {
     "data": {
      "text/plain": [
       "[<matplotlib.lines.Line2D at 0x11dea44a8>]"
      ]
     },
     "execution_count": 32,
     "metadata": {},
     "output_type": "execute_result"
    },
    {
     "data": {
      "image/png": "[encoded data removed]",
      "text/plain": [
       "<Figure size 144x129.6 with 1 Axes>"
      ]
     },
     "metadata": {},
     "output_type": "display_data"
    }
   ],
   "source": [
    "rows = 1\n",
    "cols = 1\n",
    "\n",
    "fig_RPUg, ax_RPUg = plt.subplots(rows,cols, figsize=(2*cols,1.8*rows)) # row, column format\n",
    "plt.tight_layout() #tidies up spacing between plots\n",
    "\n",
    "# ## make borders black (https://stackoverflow.com/questions/7778954/elegantly-changing-the-color-of-a-plot-frame-in-matplotlib)\n",
    "# for spine in ax.spines.values():\n",
    "#     spine.set_edgecolor('k')\n",
    "\n",
    "for spine in ax_RPUg.spines.values():\n",
    "    spine.set_edgecolor('black')\n",
    "    spine.set_linewidth(1)\n",
    "\n",
    "xdata_RPUg = np.ones((len(data['AJT472']),), dtype=int)\n",
    "\n",
    "ax_RPUg.bar([1,2,3,4], [np.mean(data['AJT472']), np.mean(data['AJT473']), np.mean(data['AJT474']), np.mean(data['AJT476'])], \n",
    "#             yerr = [np.std(data['AJT472']), np.std(data['AJT473']), np.std(data['AJT474']), np.std(data['AJT476'])], \n",
    "            color = 'black', zorder = 1, \n",
    "            edgecolor = 'black')#, linewidth = 1)#, \n",
    "#             error_kw=dict(lw=1, capsize=4, capthick=1, ecolor = 'black'))\n",
    "\n",
    "y_data = [data['AJT472'], data['AJT473'], data['AJT474'], data['AJT476']]\n",
    "\n",
    "for i, d in enumerate(y_data):\n",
    "    ax_RPUg.scatter([i+1]*len(d), d, \n",
    "                color = 'white', zorder = 2, s=20,\n",
    "                edgecolor = 'black', linewidth = 0.5)\n",
    "\n",
    "# ax_RPUg.scatter(y = melted[''], ax = ax_RPUg,\n",
    "#             color = 'white', zorder = 2, \n",
    "#             edgecolor = 'black', linewidth = 0.5, size=3)\n",
    "\n",
    "\n",
    "# print(pd.Series(xdata_RPUg))\n",
    "# print(pd.Series(data_RPUg))\n",
    "# print(pd.concat((pd.Series(xdata_RPUg), pd.Series(data_RPUg)), axis = 1))\n",
    "\n",
    "# sns.swarmplot(data = pd.concat((pd.Series(xdata_RPUg), pd.Series(data_RPUg)), axis = 1), \n",
    "#               ax = ax_RPUg, size = 10, color = 'white', edgecolor = 'black', linewidth = 2)\n",
    "\n",
    "ax_RPUg.set_xscale('linear')\n",
    "ax_RPUg.set_yscale('log')\n",
    "\n",
    "ax_RPUg.set_xlim(0.25,4.75)\n",
    "ax_RPUg.set_ylim(10,10000)\n",
    "\n",
    "ax_RPUg.set_ylabel('Fluorescence (a.u.)', size = 8, color = 'black', labelpad = 2)\n",
    "ax_RPUg.yaxis.label.set_color('black')\n",
    "\n",
    "ax_RPUg.tick_params(labelsize = 8, length = 3, width = 0.5, direction = 'in', pad = 2, colors = 'black')\n",
    "ax_RPUg.tick_params(which='minor', length = 2, width = 0.5, direction = 'in', colors = 'black')\n",
    "ax_RPUg.set_xticks([0.675,1.675,2.675,3.4])\n",
    "ax_RPUg.set_xticklabels(['LPattB5','LPattB2','LPattB7','Plasmid (p15a)'], rotation = 30)\n",
    "ax_RPUg.grid(False)\n",
    "\n",
    "ax_RPUg.plot([0.25,4.75], [means_NOTgates_all['au']['AJT206'],means_NOTgates_all['au']['AJT206']], color ='black',linestyle ='-', zorder=3)\n",
    "# ax_RPUg.fill_between([0.25,4.75], [means_NOTgates_all['au']['AJT206']-stdevs_NOTgates_all['au']['AJT206'],means_NOTgates_all['au']['AJT206']-stdevs_NOTgates_all['au']['AJT206']], \n",
    "#                                    [means_NOTgates_all['au']['AJT206']+stdevs_NOTgates_all['au']['AJT206'],means_NOTgates_all['au']['AJT206']+stdevs_NOTgates_all['au']['AJT206']], \n",
    "#                      color='black', alpha=0.2, zorder = 3)\n",
    "# ax_RPUg.plot(30, 0.25,4.75, colors = 'lightgray')\n",
    "\n",
    "# # adding RPUG label and arrow\n",
    "# ax_RPUg.arrow(2.75,means['au']['AJT280'],-0.5,0, \n",
    "#               head_width=200, head_length=0.2, width = 50,\n",
    "#               fc='black', ec='black', clip_on = False) # clip_on = False allows it to continue outside of axes\n",
    "# ax_RPUg.text(2.8, means['au']['AJT280'], \n",
    "#              ('1 RPU$_{\\mathrm{G}}$' +'\\n({} a.u.)'.format(round(means['au']['AJT280'], 2))), # \\mathrm gets rid of italics of Latex font, which is created by the $...$ for making subscript\n",
    "#              verticalalignment = 'center', horizontalalignment = 'left', \n",
    "#              fontsize = 30, color = 'black')\n",
    "\n",
    "# #autofluorescence label and arrow\n",
    "# ax_RPUg.plot([0.25,1.75],[means['au']['AJT206'], means['au']['AJT206']], \n",
    "#               linestyle = '--', linewidth = 4, color = 'lightgrey')\n",
    "\n",
    "# ax_RPUg.arrow(2.75,means['au']['AJT206'],-0.5,0, \n",
    "#               head_width=8, head_length=0.2, width = 2,\n",
    "#               fc='black', ec='black', clip_on = False) # clip_on = False allows it to continue outside of axes\n",
    "# ax_RPUg.text(2.8, means['au']['AJT206'], \n",
    "#              ('Autofluor.' +'\\n({} a.u.)'.format(round(means['au']['AJT206'], 2))), \n",
    "# #              ('Autofluor.' +' {} a.u.'.format(round(means['au']['AJT206'], 2))), \n",
    "#              verticalalignment = 'center', horizontalalignment = 'left', \n",
    "#              fontsize = 30, color = 'black')\n"
   ]
  },
  {
   "cell_type": "code",
   "execution_count": 33,
   "metadata": {},
   "outputs": [],
   "source": [
    "# fig_RPUg.savefig('Fig1E_EcN_LPsRelativeExpression_bar_withErrorBars.pdf', bbox_inches = \"tight\", transparent = True)\n"
   ]
  },
  {
   "cell_type": "code",
   "execution_count": 14,
   "metadata": {},
   "outputs": [
    {
     "name": "stdout",
     "output_type": "stream",
     "text": [
      "[1093.3699951171875, 978.6700032552084, 913.260009765625, 4994.409993489583]\n"
     ]
    }
   ],
   "source": [
    "print([np.mean(data['AJT472']), np.mean(data['AJT473']), np.mean(data['AJT474']), np.mean(data['AJT476'])])"
   ]
  },
  {
   "cell_type": "code",
   "execution_count": 15,
   "metadata": {},
   "outputs": [
    {
     "data": {
      "text/plain": [
       "110.28058283732467"
      ]
     },
     "execution_count": 15,
     "metadata": {},
     "output_type": "execute_result"
    }
   ],
   "source": [
    "np.std(data['AJT476'])"
   ]
  },
  {
   "cell_type": "code",
   "execution_count": null,
   "metadata": {},
   "outputs": [],
   "source": []
  }
 ],
 "metadata": {
  "kernelspec": {
   "display_name": "Python 3",
   "language": "python",
   "name": "python3"
  },
  "language_info": {
   "codemirror_mode": {
    "name": "ipython",
    "version": 3
   },
   "file_extension": ".py",
   "mimetype": "text/x-python",
   "name": "python",
   "nbconvert_exporter": "python",
   "pygments_lexer": "ipython3",
   "version": "3.6.5"
  }
 },
 "nbformat": 4,
 "nbformat_minor": 2
}
